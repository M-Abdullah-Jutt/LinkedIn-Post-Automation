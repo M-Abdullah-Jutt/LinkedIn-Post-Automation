{
 "cells": [
  {
   "cell_type": "code",
   "execution_count": 1,
   "id": "4939c64e-3352-46e0-b338-a0ce7a1ed999",
   "metadata": {},
   "outputs": [],
   "source": [
    "import requests"
   ]
  },
  {
   "cell_type": "code",
   "execution_count": 4,
   "id": "6fcba362-b6b0-4b76-924c-db25b0fc1884",
   "metadata": {},
   "outputs": [
    {
     "name": "stdout",
     "output_type": "stream",
     "text": [
      "200\n"
     ]
    }
   ],
   "source": [
    "\n",
    "url = \"https://hook.us2.make.com/2r8n9m9088cyvpuai3da45cl4gcub3eq\"  # Replace with your webhook URL\n",
    "data = {\"prompt\": \"Write a LinkedIn post about using AI for productivity.\"}\n",
    "\n",
    "response = requests.post(url, json=data)\n",
    "print(response.status_code)"
   ]
  },
  {
   "cell_type": "code",
   "execution_count": null,
   "id": "d4392c84-2fc7-455e-bc27-2f7defa9cb7c",
   "metadata": {},
   "outputs": [],
   "source": []
  }
 ],
 "metadata": {
  "kernelspec": {
   "display_name": "Python 3 (ipykernel)",
   "language": "python",
   "name": "python3"
  },
  "language_info": {
   "codemirror_mode": {
    "name": "ipython",
    "version": 3
   },
   "file_extension": ".py",
   "mimetype": "text/x-python",
   "name": "python",
   "nbconvert_exporter": "python",
   "pygments_lexer": "ipython3",
   "version": "3.12.1"
  }
 },
 "nbformat": 4,
 "nbformat_minor": 5
}
